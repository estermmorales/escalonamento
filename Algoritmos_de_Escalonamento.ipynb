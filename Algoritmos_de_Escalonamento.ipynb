{
  "cells": [
    {
      "cell_type": "markdown",
      "metadata": {
        "id": "view-in-github",
        "colab_type": "text"
      },
      "source": [
        "<a href=\"https://colab.research.google.com/github/estermmorales/escalonamento/blob/main/Algoritmos_de_Escalonamento.ipynb\" target=\"_parent\"><img src=\"https://colab.research.google.com/assets/colab-badge.svg\" alt=\"Open In Colab\"/></a>"
      ]
    },
    {
      "cell_type": "code",
      "execution_count": null,
      "metadata": {
        "id": "Oh2v1yh4wRZ4"
      },
      "outputs": [],
      "source": [
        "import threading\n",
        "import matplotlib.pyplot as plt\n",
        "import pandas as pd"
      ]
    },
    {
      "cell_type": "code",
      "execution_count": null,
      "metadata": {
        "id": "8uxunR-ZwVt3"
      },
      "outputs": [],
      "source": [
        "# Classe que representa o processo\n",
        "class Processo:\n",
        "\n",
        "    def __init__(self, id, chegada, cpu, prioridade):\n",
        "        self.id = id\n",
        "        self.chegada = chegada\n",
        "        self.cpu = cpu\n",
        "        self.prioridade = prioridade\n",
        "\n",
        "    def get_cpu(self):\n",
        "        return self.cpu\n",
        "    \n",
        "    def get_chegada(self):\n",
        "        return self.chegada\n",
        "\n",
        "    def get_prioridade(self):\n",
        "      return self.prioridade\n",
        "    \n",
        "    def get_id(self):\n",
        "        return self.id"
      ]
    },
    {
      "cell_type": "code",
      "execution_count": null,
      "metadata": {
        "id": "E2Xsw3CuwY9o"
      },
      "outputs": [],
      "source": [
        "# Classe que representa a fila de aptos\n",
        "class FilaAptos:\n",
        "\n",
        "    listaProcessos = []\n",
        "\n",
        "    def __init__(self):\n",
        "        pass\n",
        "\n",
        "    def insere_processo(self, processo):\n",
        "        self.listaProcessos.append(processo)\n",
        "\n",
        "    def mostra_dados_processo(self, posicao):\n",
        "        print(f'Identificacao: {self.listaProcessos[posicao].get_id()}')\n",
        "        print(f'Chegada......: {self.listaProcessos[posicao].get_chegada()}')\n",
        "        print(f'CPU..........: {self.listaProcessos[posicao].get_cpu()}')\n",
        "        print(f'Prioridade...: {self.listaProcessos[posicao].get_prioridade()}\\n')\n",
        "\n",
        "    def get_proximo_processo(self):\n",
        "        return self.listaProcessos.pop(0)\n",
        "\n",
        "    def mostra_processos_lista(self):\n",
        "        for i in range(len(self.listaProcessos)):\n",
        "            self.mostra_dados_processo(i)\n",
        "\n",
        "    def tamanho_lista(self):\n",
        "        return len(self.listaProcessos)\n",
        "\n",
        "    def ordenar_por_cpu(self):\n",
        "        self.listaProcessos = sorted(self.listaProcessos, key=lambda Processo:Processo.cpu)\n",
        "    \n",
        "    def ordenar_por_prioridade(self):\n",
        "        self.listaProcessos = sorted(self.listaProcessos, key=lambda Processo:Processo.prioridade)"
      ]
    },
    {
      "cell_type": "code",
      "execution_count": null,
      "metadata": {
        "id": "FS6WAU_Uwb8W"
      },
      "outputs": [],
      "source": [
        "# Thread algoritmo FCFS\n",
        "class threadFCFS(threading.Thread):\n",
        "    tempo_chegada = 0\n",
        "    tempo_relogio = 0\n",
        "    media = 0.0\n",
        "\n",
        "    def __init__(self, fila_aptos):\n",
        "        self.fila_aptos = fila_aptos\n",
        "        threading.Thread.__init__(self)\n",
        "\n",
        "    def escalonar(self):\n",
        "        qtd_processos = self.fila_aptos.tamanho_lista()\n",
        "        \n",
        "        for i in range(qtd_processos):\n",
        "            proc = self.fila_aptos.get_proximo_processo()\n",
        "            self.tempo_relogio += proc.get_cpu()\n",
        "            self.tempo_chegada += proc.get_chegada()\n",
        "\n",
        "        self.media = ((self.tempo_chegada - self.tempo_relogio - proc.get_cpu()) / qtd_processos)* -1\n",
        "        return self.media\n",
        "\n",
        "    def run(self):\n",
        "        print('Algoritmo FCFS')\n",
        "        self.media = self.escalonar()\n",
        "        print(f'Media de espera: {self.media:.2f}')"
      ]
    },
    {
      "cell_type": "code",
      "execution_count": null,
      "metadata": {
        "id": "gIhScaYlweMW"
      },
      "outputs": [],
      "source": [
        "# Thread algoritmo SJF (SHORTEST JOB FIRST)\n",
        "class threadSJF(threading.Thread):\n",
        "    tempo_chegada = 0\n",
        "    tempo_relogio = 0\n",
        "    media = 0.0\n",
        "\n",
        "    def __init__(self, fila_aptos):\n",
        "        self.fila_aptos = fila_aptos\n",
        "        threading.Thread.__init__(self)\n",
        "\n",
        "    def escalonar(self):\n",
        "        self.fila_aptos.ordenar_por_cpu()\n",
        "        qtd_processos = self.fila_aptos.tamanho_lista()\n",
        "        \n",
        "        for i in range(qtd_processos):\n",
        "            proc = self.fila_aptos.get_proximo_processo()\n",
        "            self.tempo_relogio += proc.get_cpu()\n",
        "            self.tempo_chegada += proc.get_chegada()\n",
        "\n",
        "        self.media = ((self.tempo_chegada - self.tempo_relogio - proc.get_cpu()) / qtd_processos)* -1\n",
        "        return self.media\n",
        "\n",
        "    def run(self):\n",
        "        print('\\nAlgoritmo SJF')\n",
        "        self.media = self.escalonar()\n",
        "        print(f'Media de espera: {self.media:.2f}')"
      ]
    },
    {
      "cell_type": "code",
      "execution_count": null,
      "metadata": {
        "id": "MKSXBjafx-zg"
      },
      "outputs": [],
      "source": [
        "# Thread algoritmo baseado em PRIORIDADE\n",
        "class threadPrioridade(threading.Thread):\n",
        "    tempo_chegada = 0\n",
        "    tempo_relogio = 0\n",
        "    media = 0.0\n",
        "\n",
        "    def __init__(self, fila_aptos):\n",
        "        self.fila_aptos = fila_aptos\n",
        "        threading.Thread.__init__(self)\n",
        "\n",
        "    def escalonar(self):\n",
        "        self.fila_aptos.ordenar_por_prioridade()\n",
        "        qtd_processos = self.fila_aptos.tamanho_lista()\n",
        "        \n",
        "        for i in range(qtd_processos):\n",
        "            proc = self.fila_aptos.get_proximo_processo()\n",
        "            self.tempo_relogio += proc.get_cpu()\n",
        "            self.tempo_chegada += proc.get_chegada()\n",
        "\n",
        "        self.media = ((self.tempo_chegada - self.tempo_relogio - proc.get_cpu()) / qtd_processos)* -1\n",
        "        return self.media\n",
        "\n",
        "    def run(self):\n",
        "        print('\\nAlgoritmo baseado em PRIORIDADE')\n",
        "        self.media = self.escalonar()\n",
        "        print(f'Media de espera: {self.media:.2f}\\n')"
      ]
    },
    {
      "cell_type": "code",
      "execution_count": null,
      "metadata": {
        "id": "vV7IEnrgwhym"
      },
      "outputs": [],
      "source": [
        "# Funcao principal\n",
        "def main():\n",
        "\n",
        "    medias = []\n",
        "    lista_processos = []\n",
        "    \n",
        "    #Lê o arquivo csv, cria os processos e adiciona na lista\n",
        "    processos = pd.read_csv('processo.csv')\n",
        "    for i in range(len(processos.index)):\n",
        "      #                                         Id                 Chegada              CPU                 Prioridade\n",
        "      lista_processos.append(Processo(processos.iloc[i][0], processos.iloc[i][1], processos.iloc[i][2], processos.iloc[i][3]))\n",
        "      \n",
        "    #Cria e mostra processos na fila de aptos\n",
        "    f_aptos = FilaAptos()\n",
        "    for i in lista_processos:\n",
        "      f_aptos.insere_processo(i)\n",
        "\n",
        "    f_aptos.mostra_processos_lista()\n",
        "\n",
        "    #Roda Algoritmo FCFS\n",
        "    fcfs = threadFCFS(f_aptos)\n",
        "    fcfs.start()\n",
        "    fcfs.join()\n",
        "\n",
        "    #Popula fila de aptos novamente e roda Algoritmo SJF\n",
        "    for i in lista_processos:\n",
        "      f_aptos.insere_processo(i)\n",
        "\n",
        "    sjf = threadSJF(f_aptos)\n",
        "    sjf.start()\n",
        "    sjf.join()\n",
        "    \n",
        "    #Popula fila de aptos novamente e roda Algoritmo de Prioridade\n",
        "    for i in lista_processos:\n",
        "      f_aptos.insere_processo(i)\n",
        "\n",
        "    prioridade = threadPrioridade(f_aptos)\n",
        "    prioridade.start()\n",
        "    prioridade.join()\n",
        "    \n",
        "    #Mostra gráfico das médias\n",
        "    medias.append(fcfs.media)\n",
        "    medias.append(sjf.media)\n",
        "    medias.append(prioridade.media)\n",
        "\n",
        "    faixa = [medias[0], medias[1], medias[2]]\n",
        "    algoritmos = ['FCFS', 'SJF', 'Prioridade']\n",
        "    plt.bar(algoritmos, faixa, color=\"red\")\n",
        "\n",
        "    plt.show()"
      ]
    },
    {
      "cell_type": "code",
      "execution_count": null,
      "metadata": {
        "colab": {
          "base_uri": "https://localhost:8080/",
          "height": 1000
        },
        "id": "pFxIiKVVG2Dc",
        "outputId": "5d25fe12-4e58-4a2f-9718-c6850bb7481f"
      },
      "outputs": [
        {
          "output_type": "stream",
          "name": "stdout",
          "text": [
            "Identificacao: 1\n",
            "Chegada......: 1\n",
            "CPU..........: 1\n",
            "Prioridade...: 1\n",
            "\n",
            "Identificacao: 2\n",
            "Chegada......: 5\n",
            "CPU..........: 2\n",
            "Prioridade...: 2\n",
            "\n",
            "Identificacao: 3\n",
            "Chegada......: 7\n",
            "CPU..........: 8\n",
            "Prioridade...: 3\n",
            "\n",
            "Identificacao: 4\n",
            "Chegada......: 4\n",
            "CPU..........: 4\n",
            "Prioridade...: 4\n",
            "\n",
            "Identificacao: 5\n",
            "Chegada......: 5\n",
            "CPU..........: 3\n",
            "Prioridade...: 5\n",
            "\n",
            "Identificacao: 6\n",
            "Chegada......: 6\n",
            "CPU..........: 5\n",
            "Prioridade...: 6\n",
            "\n",
            "Identificacao: 7\n",
            "Chegada......: 2\n",
            "CPU..........: 6\n",
            "Prioridade...: 8\n",
            "\n",
            "Identificacao: 8\n",
            "Chegada......: 3\n",
            "CPU..........: 7\n",
            "Prioridade...: 3\n",
            "\n",
            "Algoritmo FCFS\n",
            "Media de espera: 1.25\n",
            "\n",
            "Algoritmo SJF\n",
            "Media de espera: 1.38\n",
            "\n",
            "Algoritmo baseado em PRIORIDADE\n",
            "Media de espera: 1.12\n",
            "\n"
          ]
        },
        {
          "output_type": "display_data",
          "data": {
            "text/plain": [
              "<Figure size 640x480 with 1 Axes>"
            ],
            "image/png": "[encoded data removed]"
          },
          "metadata": {}
        }
      ],
      "source": [
        "main()"
      ]
    }
  ],
  "metadata": {
    "colab": {
      "provenance": [],
      "include_colab_link": true
    },
    "kernelspec": {
      "display_name": "Python 3",
      "name": "python3"
    },
    "language_info": {
      "name": "python"
    }
  },
  "nbformat": 4,
  "nbformat_minor": 0
}