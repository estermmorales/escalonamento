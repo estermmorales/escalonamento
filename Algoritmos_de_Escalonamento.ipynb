{
  "nbformat": 4,
  "nbformat_minor": 0,
  "metadata": {
    "colab": {
      "provenance": [],
      "authorship_tag": "ABX9TyOiydXcldS5S1GKmkEOrpSj",
      "include_colab_link": true
    },
    "kernelspec": {
      "name": "python3",
      "display_name": "Python 3"
    },
    "language_info": {
      "name": "python"
    }
  },
  "cells": [
    {
      "cell_type": "markdown",
      "metadata": {
        "id": "view-in-github",
        "colab_type": "text"
      },
      "source": [
        "<a href=\"https://colab.research.google.com/github/estermmorales/escalonamento/blob/main/Algoritmos_de_Escalonamento.ipynb\" target=\"_parent\"><img src=\"https://colab.research.google.com/assets/colab-badge.svg\" alt=\"Open In Colab\"/></a>"
      ]
    },
    {
      "cell_type": "code",
      "execution_count": 28,
      "metadata": {
        "id": "Oh2v1yh4wRZ4"
      },
      "outputs": [],
      "source": [
        "import threading\n",
        "import time\n",
        "import random\n",
        "import matplotlib.pyplot as plt"
      ]
    },
    {
      "cell_type": "code",
      "source": [
        "# Classe que representa o processo\n",
        "class Processo:\n",
        "\n",
        "    def __init__(self, id, chegada, cpu, prioridade):\n",
        "        self.id = id\n",
        "        self.chegada = chegada\n",
        "        self.cpu = cpu\n",
        "        self.prioridade = prioridade\n",
        "\n",
        "    def get_cpu(self):\n",
        "        return self.cpu\n",
        "    \n",
        "    def get_chegada(self):\n",
        "        return self.chegada\n",
        "\n",
        "    def get_prioridade(self):\n",
        "      return self.prioridade\n",
        "    \n",
        "    def get_id(self):\n",
        "        return self.id"
      ],
      "metadata": {
        "id": "8uxunR-ZwVt3"
      },
      "execution_count": 29,
      "outputs": []
    },
    {
      "cell_type": "code",
      "source": [
        "# Classe que representa a fila de aptos\n",
        "class FilaAptos:\n",
        "\n",
        "    listaProcessos = []\n",
        "\n",
        "    def __init__(self):\n",
        "        pass\n",
        "\n",
        "    def insere_processo(self, processo):\n",
        "        self.listaProcessos.append(processo)\n",
        "\n",
        "    def mostra_dados_processo(self, posicao):\n",
        "        print(f'Identificacao: {self.listaProcessos[posicao].get_id()}')\n",
        "        print(f'Chegada......: {self.listaProcessos[posicao].get_chegada()}')\n",
        "        print(f'CPU..........: {self.listaProcessos[posicao].get_cpu()}')\n",
        "        print(f'Prioridade...: {self.listaProcessos[posicao].get_prioridade()}\\n')\n",
        "\n",
        "    def get_proximo_processo(self):\n",
        "        return self.listaProcessos.pop(0)\n",
        "\n",
        "    def mostra_processos_lista(self):\n",
        "        for i in range(len(self.listaProcessos)):\n",
        "            self.mostra_dados_processo(i)\n",
        "\n",
        "    def tamanho_lista(self):\n",
        "        return len(self.listaProcessos)\n",
        "\n",
        "    def ordenar_por_cpu(self):\n",
        "        self.listaProcessos = sorted(self.listaProcessos, key=lambda Processo:Processo.cpu)\n",
        "    \n",
        "    def ordenar_por_prioridade(self):\n",
        "        self.listaProcessos = sorted(self.listaProcessos, key=lambda Processo:Processo.prioridade)"
      ],
      "metadata": {
        "id": "E2Xsw3CuwY9o"
      },
      "execution_count": 30,
      "outputs": []
    },
    {
      "cell_type": "code",
      "source": [
        "# Thread algoritmo FCFS\n",
        "class threadFCFS(threading.Thread):\n",
        "\n",
        "    tempo_relogio = 0\n",
        "    media = 0.0\n",
        "\n",
        "    def __init__(self, fila_aptos):\n",
        "        self.fila_aptos = fila_aptos\n",
        "        threading.Thread.__init__(self)\n",
        "\n",
        "    def escalonar(self):\n",
        "        qtd_processos = self.fila_aptos.tamanho_lista()\n",
        "        \n",
        "        for i in range(qtd_processos):\n",
        "            proc = self.fila_aptos.get_proximo_processo()\n",
        "            self.tempo_relogio += proc.get_cpu()\n",
        "\n",
        "        self.media = (self.tempo_relogio - proc.get_cpu()) / qtd_processos\n",
        "\n",
        "        media = (self.tempo_relogio - proc.get_cpu()) / qtd_processos\n",
        "        return media\n",
        "\n",
        "    def run(self):\n",
        "        print('Algoritmo FCFS')\n",
        "        self.media = self.escalonar()\n",
        "        medias.append(self.media)\n",
        "        print(f'Media de espera: {self.media}')"
      ],
      "metadata": {
        "id": "FS6WAU_Uwb8W"
      },
      "execution_count": 31,
      "outputs": []
    },
    {
      "cell_type": "code",
      "source": [
        "# Thread algoritmo SJF (SHORTEST JOB FIRST)\n",
        "class threadSJF(threading.Thread):\n",
        "\n",
        "    tempo_relogio = 0\n",
        "    media = 0.0\n",
        "\n",
        "    def __init__(self, fila_aptos):\n",
        "        self.fila_aptos = fila_aptos\n",
        "        threading.Thread.__init__(self)\n",
        "\n",
        "    def escalonar(self):\n",
        "        self.fila_aptos.ordenar_por_cpu()\n",
        "        qtd_processos = self.fila_aptos.tamanho_lista()\n",
        "        \n",
        "        for i in range(qtd_processos):\n",
        "            proc = self.fila_aptos.get_proximo_processo()\n",
        "            self.tempo_relogio += proc.get_cpu()\n",
        "\n",
        "        self.media = (self.tempo_relogio - proc.get_cpu()) / qtd_processos\n",
        "\n",
        "        media = (self.tempo_relogio - proc.get_cpu()) / qtd_processos\n",
        "        return media\n",
        "\n",
        "    def run(self):\n",
        "        print('\\nAlgoritmo SJF')\n",
        "        self.media = self.escalonar()\n",
        "        medias.append(self.media)\n",
        "        print(f'Media de espera: {self.media}')"
      ],
      "metadata": {
        "id": "gIhScaYlweMW"
      },
      "execution_count": 32,
      "outputs": []
    },
    {
      "cell_type": "code",
      "source": [
        "# Thread algoritmo baseado em PRIORIDADE\n",
        "class threadPrioridade(threading.Thread):\n",
        "\n",
        "    tempo_relogio = 0\n",
        "    media = 0.0\n",
        "\n",
        "    def __init__(self, fila_aptos):\n",
        "        self.fila_aptos = fila_aptos\n",
        "        threading.Thread.__init__(self)\n",
        "\n",
        "    def escalonar(self):\n",
        "        self.fila_aptos.ordenar_por_prioridade()\n",
        "        qtd_processos = self.fila_aptos.tamanho_lista()\n",
        "        \n",
        "        for i in range(qtd_processos):\n",
        "            proc = self.fila_aptos.get_proximo_processo()\n",
        "            self.tempo_relogio += proc.get_cpu()\n",
        "\n",
        "        media = (self.tempo_relogio - proc.get_cpu()) / qtd_processos\n",
        "        return media\n",
        "\n",
        "\n",
        "    def run(self):\n",
        "        print('\\nAlgoritmo baseado em PRIORIDADE')\n",
        "        self.media = self.escalonar()\n",
        "        medias.append(self.media)\n",
        "        print(f'Media de espera: {self.media}')"
      ],
      "metadata": {
        "id": "MKSXBjafx-zg"
      },
      "execution_count": 33,
      "outputs": []
    },
    {
      "cell_type": "code",
      "source": [
        "def insere_processos(f_aptos, p1, p2, p3):\n",
        "  f_aptos.insere_processo(p1)\n",
        "  f_aptos.insere_processo(p2)\n",
        "  f_aptos.insere_processo(p3)"
      ],
      "metadata": {
        "id": "l-k22l7LcdbM"
      },
      "execution_count": 34,
      "outputs": []
    },
    {
      "cell_type": "code",
      "source": [
        "# Funcao principal\n",
        "def main():\n",
        "\n",
        "    global medias\n",
        "\n",
        "    medias = []\n",
        "\n",
        "    p1 = Processo('P1', 0, 24, 3)\n",
        "    p2 = Processo('P2', 0, 3, 1)\n",
        "    p3 = Processo('P3', 0, 3, 2)\n",
        "\n",
        "    f_aptos = FilaAptos()\n",
        "\n",
        "    insere_processos(f_aptos, p1, p2, p3)\n",
        "    f_aptos.mostra_processos_lista()\n",
        "\n",
        "    fcfs = threadFCFS(f_aptos)\n",
        "    fcfs.start()\n",
        "    fcfs.join()\n",
        "\n",
        "    insere_processos(f_aptos, p1, p2, p3)\n",
        "\n",
        "    sjf = threadSJF(f_aptos)\n",
        "    sjf.start()\n",
        "    sjf.join()\n",
        "\n",
        "    insere_processos(f_aptos, p1, p2, p3)\n",
        "    \n",
        "    prioridade = threadPrioridade(f_aptos)\n",
        "    prioridade.start()\n",
        "    prioridade.join()\n",
        "\n",
        "    faixa = [medias[0], medias[1], medias[2]]\n",
        "    algoritmos = ['FCFS', 'SJF', 'Prioridade']\n",
        "    plt.bar(algoritmos, faixa, color=\"red\")\n",
        "\n",
        "    plt.show()"
      ],
      "metadata": {
        "id": "vV7IEnrgwhym"
      },
      "execution_count": 35,
      "outputs": []
    },
    {
      "cell_type": "code",
      "source": [
        "main()"
      ],
      "metadata": {
        "colab": {
          "base_uri": "https://localhost:8080/",
          "height": 829
        },
        "id": "pFxIiKVVG2Dc",
        "outputId": "da57f637-d92f-4d36-ecf4-a91f42c21c1d"
      },
      "execution_count": 36,
      "outputs": [
        {
          "output_type": "stream",
          "name": "stdout",
          "text": [
            "Identificacao: P1\n",
            "Chegada......: 0\n",
            "CPU..........: 24\n",
            "Prioridade...: 3\n",
            "\n",
            "Identificacao: P2\n",
            "Chegada......: 0\n",
            "CPU..........: 3\n",
            "Prioridade...: 1\n",
            "\n",
            "Identificacao: P3\n",
            "Chegada......: 0\n",
            "CPU..........: 3\n",
            "Prioridade...: 2\n",
            "\n",
            "Algoritmo FCFS\n",
            "Media de espera: 9.0\n",
            "\n",
            "Algoritmo SJF\n",
            "Media de espera: 2.0\n",
            "\n",
            "Algoritmo baseado em PRIORIDADE\n",
            "Media de espera: 2.0\n"
          ]
        },
        {
          "output_type": "display_data",
          "data": {
            "text/plain": [
              "<Figure size 640x480 with 1 Axes>"
            ],
            "image/png": "[encoded data removed]"
          },
          "metadata": {}
        }
      ]
    }
  ]
}